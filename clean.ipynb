{
 "cells": [
  {
   "cell_type": "code",
   "execution_count": 1,
   "id": "b154e4b1",
   "metadata": {},
   "outputs": [],
   "source": [
    "import pandas as pd\n",
    "import numpy as np\n",
    "import datetime"
   ]
  },
  {
   "cell_type": "code",
   "execution_count": null,
   "id": "94b5c737",
   "metadata": {},
   "outputs": [],
   "source": [
    "### limpiar los conjuntos de datos de Shanghai"
   ]
  },
  {
   "cell_type": "code",
   "execution_count": 16,
   "id": "d4281b42",
   "metadata": {},
   "outputs": [],
   "source": [
    "df1 = pd.read_csv('Shanghai AQI and Wheather 2014-2021.csv')"
   ]
  },
  {
   "cell_type": "code",
   "execution_count": 17,
   "id": "3d7311a0",
   "metadata": {},
   "outputs": [],
   "source": [
    "df1[\"date\"] = pd.to_datetime(df1[\"date\"])"
   ]
  },
  {
   "cell_type": "code",
   "execution_count": 50,
   "id": "9892c50e",
   "metadata": {},
   "outputs": [
    {
     "data": {
      "text/plain": [
       "(2502, 22)"
      ]
     },
     "execution_count": 50,
     "metadata": {},
     "output_type": "execute_result"
    }
   ],
   "source": [
    "df1.shape"
   ]
  },
  {
   "cell_type": "code",
   "execution_count": 30,
   "id": "66e5d30f",
   "metadata": {},
   "outputs": [],
   "source": [
    "df2 = pd.read_csv('shanghai-air-quality.csv')"
   ]
  },
  {
   "cell_type": "code",
   "execution_count": null,
   "id": "f4993be9",
   "metadata": {},
   "outputs": [],
   "source": [
    "df2.columns = ['date', 'pm25', 'pm10', 'o3', 'no2', 'so2', 'co']"
   ]
  },
  {
   "cell_type": "code",
   "execution_count": 43,
   "id": "5500a494",
   "metadata": {},
   "outputs": [],
   "source": [
    "df2['pm25'] = pd.to_numeric(df2['pm25'],  errors='coerce')\n",
    "df2['pm10'] = pd.to_numeric(df2['pm10'],  errors='coerce')\n",
    "df2['o3'] = pd.to_numeric(df2['o3'],  errors='coerce')\n",
    "df2['no2'] = pd.to_numeric(df2['no2'],  errors='coerce')\n",
    "df2['so2'] = pd.to_numeric(df2['so2'],  errors='coerce')\n",
    "df2['co'] = pd.to_numeric(df2['co'],  errors='coerce')"
   ]
  },
  {
   "cell_type": "code",
   "execution_count": 45,
   "id": "6f28fe60",
   "metadata": {},
   "outputs": [],
   "source": [
    "df2[\"date\"] = pd.to_datetime(df2[\"date\"])"
   ]
  },
  {
   "cell_type": "code",
   "execution_count": 52,
   "id": "f80933ae",
   "metadata": {},
   "outputs": [],
   "source": [
    "df3 = pd.merge(df1, df2, how='left', on = 'date')"
   ]
  },
  {
   "cell_type": "code",
   "execution_count": 56,
   "id": "71c9ffa5",
   "metadata": {},
   "outputs": [],
   "source": [
    "df3.to_csv('shanghai.csv')"
   ]
  },
  {
   "cell_type": "code",
   "execution_count": null,
   "id": "67ed2380",
   "metadata": {},
   "outputs": [],
   "source": [
    "### limpiar los datos de WHO"
   ]
  },
  {
   "cell_type": "code",
   "execution_count": 2,
   "id": "69ece653",
   "metadata": {},
   "outputs": [],
   "source": [
    "df = pd.read_excel('who_aap_2021_v8_new.xlsx', sheet_name='AAP_2022_city_v6')"
   ]
  },
  {
   "cell_type": "code",
   "execution_count": 63,
   "id": "a8c69dfa",
   "metadata": {},
   "outputs": [
    {
     "data": {
      "text/plain": [
       "Index(['WHO Region', 'ISO3', 'WHO Country Name', 'City or Locality',\n",
       "       'Measurement Year', 'PM2.5 (μg/m3)', 'PM10 (μg/m3)', 'NO2 (μg/m3)',\n",
       "       'PM25 temporal coverage (%)', 'PM10 temporal coverage (%)',\n",
       "       'NO2 temporal coverage (%)', 'Reference',\n",
       "       'Number and type of monitoring stations', 'Version of the database',\n",
       "       'Status'],\n",
       "      dtype='object')"
      ]
     },
     "execution_count": 63,
     "metadata": {},
     "output_type": "execute_result"
    }
   ],
   "source": [
    "df.columns"
   ]
  },
  {
   "cell_type": "code",
   "execution_count": 93,
   "id": "2e92815b",
   "metadata": {},
   "outputs": [],
   "source": [
    "df = df[['WHO Region', 'WHO Country Name', \n",
    "        'PM2.5 (μg/m3)', 'PM10 (μg/m3)', 'NO2 (μg/m3)',\n",
    "       'PM25 temporal coverage (%)', 'PM10 temporal coverage (%)',\n",
    "       'NO2 temporal coverage (%)']]"
   ]
  },
  {
   "cell_type": "code",
   "execution_count": 68,
   "id": "bb54219e",
   "metadata": {},
   "outputs": [
    {
     "data": {
      "text/plain": [
       "WHO Region                     object\n",
       "WHO Country Name               object\n",
       "Measurement Year                int64\n",
       "PM2.5 (μg/m3)                 float64\n",
       "PM10 (μg/m3)                  float64\n",
       "NO2 (μg/m3)                   float64\n",
       "PM25 temporal coverage (%)    float64\n",
       "PM10 temporal coverage (%)    float64\n",
       "NO2 temporal coverage (%)     float64\n",
       "dtype: object"
      ]
     },
     "execution_count": 68,
     "metadata": {},
     "output_type": "execute_result"
    }
   ],
   "source": [
    "df.dtypes"
   ]
  },
  {
   "cell_type": "code",
   "execution_count": 94,
   "id": "1a85f914",
   "metadata": {},
   "outputs": [],
   "source": [
    "df_agg = df.groupby(['WHO Region','WHO Country Name']).mean()"
   ]
  },
  {
   "cell_type": "code",
   "execution_count": 96,
   "id": "7f1e8f0d",
   "metadata": {},
   "outputs": [],
   "source": [
    "df_agg.to_csv('who.csv')"
   ]
  }
 ],
 "metadata": {
  "kernelspec": {
   "display_name": "Python 3 (ipykernel)",
   "language": "python",
   "name": "python3"
  },
  "language_info": {
   "codemirror_mode": {
    "name": "ipython",
    "version": 3
   },
   "file_extension": ".py",
   "mimetype": "text/x-python",
   "name": "python",
   "nbconvert_exporter": "python",
   "pygments_lexer": "ipython3",
   "version": "3.9.7"
  }
 },
 "nbformat": 4,
 "nbformat_minor": 5
}
